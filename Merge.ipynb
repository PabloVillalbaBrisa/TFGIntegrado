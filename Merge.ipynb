{
  "nbformat": 4,
  "nbformat_minor": 0,
  "metadata": {
    "colab": {
      "provenance": []
    },
    "kernelspec": {
      "name": "python3",
      "display_name": "Python 3"
    },
    "language_info": {
      "name": "python"
    }
  },
  "cells": [
    {
      "cell_type": "markdown",
      "source": [
        "Para añadir text_predictions"
      ],
      "metadata": {
        "id": "UbBxNE1SLx90"
      }
    },
    {
      "cell_type": "code",
      "execution_count": null,
      "metadata": {
        "colab": {
          "base_uri": "https://localhost:8080/"
        },
        "id": "o5n0xK1bDrZT",
        "outputId": "dec11669-eaf5-4290-83f1-8d1180677217"
      },
      "outputs": [
        {
          "output_type": "stream",
          "name": "stdout",
          "text": [
            "Mounted at /content/drive\n",
            "Combinación completada. Archivo guardado como 'archivo_combinado.csv'\n"
          ]
        }
      ],
      "source": [
        "import pandas as pd\n",
        "from google.colab import drive\n",
        "\n",
        "drive.mount('/content/drive')\n",
        "\n",
        "file1_path = '/content/drive/My Drive/TFG PABLO VILLALBA BRISA/Archivos/metadata_limpio.csv'\n",
        "file2_path = '/content/drive/My Drive/TFG PABLO VILLALBA BRISA/Archivos/text_predictions_ok.csv'\n",
        "\n",
        "df1 = pd.read_csv(file1_path)\n",
        "df2 = pd.read_csv(file2_path)\n",
        "\n",
        "\n",
        "merged_df = pd.merge(df1, df2, on=['username', 'post'], how='left')\n",
        "\n",
        "\n",
        "merged_df.to_csv('/content/drive/My Drive/TFG PABLO VILLALBA BRISA/Archivos/file_comb_1.csv', index=False)\n",
        "\n",
        "print(\"Combinación completada. Archivo guardado como 'archivo_combinado.csv'\")\n"
      ]
    },
    {
      "cell_type": "markdown",
      "source": [
        "Para añadir instrument predictions"
      ],
      "metadata": {
        "id": "rqQE1uThM1yq"
      }
    },
    {
      "cell_type": "code",
      "source": [
        "import pandas as pd\n",
        "from google.colab import drive\n",
        "\n",
        "drive.mount('/content/drive')\n",
        "\n",
        "file1_path = '/content/drive/My Drive/TFG PABLO VILLALBA BRISA/Archivos/file_comb_1.csv'\n",
        "file2_path = '/content/drive/My Drive/TFG PABLO VILLALBA BRISA/Archivos/instrument_predictions_ok.csv'\n",
        "\n",
        "df1 = pd.read_csv(file1_path)\n",
        "df2 = pd.read_csv(file2_path)\n",
        "\n",
        "df1['post'] = df1['post'].str.replace('_UTC$', '_', regex=True)\n",
        "\n",
        "merged_df = pd.merge(df1, df2, on=['username', 'post'], how='left')\n",
        "\n",
        "merged_df.to_csv('/content/drive/My Drive/TFG PABLO VILLALBA BRISA/Archivos/file_comb_2.csv', index=False)\n",
        "\n",
        "print(\"Combinación completada. Archivo guardado como 'archivo_combinado2.csv'\")\n",
        "\n"
      ],
      "metadata": {
        "colab": {
          "base_uri": "https://localhost:8080/"
        },
        "id": "-UquY3-_M6J6",
        "outputId": "72392588-7524-4c77-f292-10afaf83f114"
      },
      "execution_count": null,
      "outputs": [
        {
          "output_type": "stream",
          "name": "stdout",
          "text": [
            "Drive already mounted at /content/drive; to attempt to forcibly remount, call drive.mount(\"/content/drive\", force_remount=True).\n",
            "Combinación completada. Archivo guardado como 'archivo_combinado2.csv'\n"
          ]
        }
      ]
    },
    {
      "cell_type": "markdown",
      "source": [
        "Para añadir face emotions predictions"
      ],
      "metadata": {
        "id": "xNoMrYuxObhy"
      }
    },
    {
      "cell_type": "code",
      "source": [
        "import pandas as pd\n",
        "from google.colab import drive\n",
        "\n",
        "drive.mount('/content/drive')\n",
        "\n",
        "file1_path = '/content/drive/My Drive/TFG PABLO VILLALBA BRISA/Archivos/file_comb_2.csv'\n",
        "file2_path = '/content/drive/My Drive/TFG PABLO VILLALBA BRISA/Archivos/face_emotions_prediction_ok.csv'\n",
        "\n",
        "df1 = pd.read_csv(file1_path)\n",
        "df2 = pd.read_csv(file2_path)\n",
        "\n",
        "df1['post'] = df1['post'].str.replace('_UTC$', '_', regex=True)\n",
        "\n",
        "merged_df = pd.merge(df1, df2, on=['username', 'post'], how='left')\n",
        "\n",
        "merged_df.to_csv('/content/drive/My Drive/TFG PABLO VILLALBA BRISA/Archivos/file_comb_3.csv', index=False)\n",
        "\n",
        "print(\"Combinación completada. Archivo guardado como 'archivo_combinado3.csv'\")"
      ],
      "metadata": {
        "colab": {
          "base_uri": "https://localhost:8080/"
        },
        "id": "4RKjjesSOeUf",
        "outputId": "0751c87c-e086-4d41-8f63-b0a4d57b8d22"
      },
      "execution_count": null,
      "outputs": [
        {
          "output_type": "stream",
          "name": "stdout",
          "text": [
            "Drive already mounted at /content/drive; to attempt to forcibly remount, call drive.mount(\"/content/drive\", force_remount=True).\n",
            "Combinación completada. Archivo guardado como 'archivo_combinado3.csv'\n"
          ]
        }
      ]
    }
  ]
}