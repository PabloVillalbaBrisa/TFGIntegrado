{
  "nbformat": 4,
  "nbformat_minor": 0,
  "metadata": {
    "colab": {
      "provenance": [],
      "machine_shape": "hm",
      "gpuType": "V28"
    },
    "kernelspec": {
      "name": "python3",
      "display_name": "Python 3"
    },
    "language_info": {
      "name": "python"
    },
    "accelerator": "TPU"
  },
  "cells": [
    {
      "cell_type": "code",
      "execution_count": null,
      "metadata": {
        "colab": {
          "base_uri": "https://localhost:8080/"
        },
        "id": "xy0J1h2JJWt_",
        "outputId": "93932128-1464-43e9-c2b3-11abd33dae45"
      },
      "outputs": [
        {
          "output_type": "stream",
          "name": "stdout",
          "text": [
            "Reading package lists... Done\n",
            "Building dependency tree... Done\n",
            "Reading state information... Done\n",
            "The following additional packages will be installed:\n",
            "  tesseract-ocr-eng tesseract-ocr-osd\n",
            "The following NEW packages will be installed:\n",
            "  tesseract-ocr tesseract-ocr-eng tesseract-ocr-osd\n",
            "0 upgraded, 3 newly installed, 0 to remove and 4 not upgraded.\n",
            "Need to get 4,816 kB of archives.\n",
            "After this operation, 15.6 MB of additional disk space will be used.\n",
            "Get:1 http://archive.ubuntu.com/ubuntu jammy/universe amd64 tesseract-ocr-eng all 1:4.00~git30-7274cfa-1.1 [1,591 kB]\n",
            "Get:2 http://archive.ubuntu.com/ubuntu jammy/universe amd64 tesseract-ocr-osd all 1:4.00~git30-7274cfa-1.1 [2,990 kB]\n",
            "Get:3 http://archive.ubuntu.com/ubuntu jammy/universe amd64 tesseract-ocr amd64 4.1.1-2.1build1 [236 kB]\n",
            "Fetched 4,816 kB in 1s (8,061 kB/s)\n",
            "Selecting previously unselected package tesseract-ocr-eng.\n",
            "(Reading database ... 119600 files and directories currently installed.)\n",
            "Preparing to unpack .../tesseract-ocr-eng_1%3a4.00~git30-7274cfa-1.1_all.deb ...\n",
            "Unpacking tesseract-ocr-eng (1:4.00~git30-7274cfa-1.1) ...\n",
            "Selecting previously unselected package tesseract-ocr-osd.\n",
            "Preparing to unpack .../tesseract-ocr-osd_1%3a4.00~git30-7274cfa-1.1_all.deb ...\n",
            "Unpacking tesseract-ocr-osd (1:4.00~git30-7274cfa-1.1) ...\n",
            "Selecting previously unselected package tesseract-ocr.\n",
            "Preparing to unpack .../tesseract-ocr_4.1.1-2.1build1_amd64.deb ...\n",
            "Unpacking tesseract-ocr (4.1.1-2.1build1) ...\n",
            "Setting up tesseract-ocr-eng (1:4.00~git30-7274cfa-1.1) ...\n",
            "Setting up tesseract-ocr-osd (1:4.00~git30-7274cfa-1.1) ...\n",
            "Setting up tesseract-ocr (4.1.1-2.1build1) ...\n",
            "Processing triggers for man-db (2.10.2-1) ...\n",
            "Collecting pytesseract\n",
            "  Downloading pytesseract-0.3.13-py3-none-any.whl.metadata (11 kB)\n",
            "Requirement already satisfied: opencv-python in /usr/local/lib/python3.10/dist-packages (4.10.0.84)\n",
            "Requirement already satisfied: packaging>=21.3 in /usr/local/lib/python3.10/dist-packages (from pytesseract) (24.1)\n",
            "Requirement already satisfied: Pillow>=8.0.0 in /usr/local/lib/python3.10/dist-packages (from pytesseract) (10.4.0)\n",
            "Requirement already satisfied: numpy>=1.21.2 in /usr/local/lib/python3.10/dist-packages (from opencv-python) (1.26.4)\n",
            "Downloading pytesseract-0.3.13-py3-none-any.whl (14 kB)\n",
            "Installing collected packages: pytesseract\n",
            "Successfully installed pytesseract-0.3.13\n"
          ]
        }
      ],
      "source": [
        "!apt install tesseract-ocr\n",
        "!pip install pytesseract opencv-python\n"
      ]
    },
    {
      "cell_type": "markdown",
      "source": [
        "CLASIFICACIÓN DE LAS IMÁGENES DEL DATASET SEGÚN SI CONTIENEN TEXTO O NO"
      ],
      "metadata": {
        "id": "i_WVGc0_1iom"
      }
    },
    {
      "cell_type": "code",
      "source": [
        "from google.colab import drive\n",
        "\n",
        "drive.mount('/content/drive')\n",
        "\n",
        "# Directorio raíz que contiene los subdirectorios con imágenes\n",
        "directorio_raiz = '/content/drive/My Drive/TFG PABLO VILLALBA BRISA/TFG_Dataset'\n",
        "# Archivo csv destino\n",
        "csv_path = '/content/drive/My Drive/TFG PABLO VILLALBA BRISA/Archivos/insta_posts.csv'"
      ],
      "metadata": {
        "id": "-irJjJOb1xIS",
        "colab": {
          "base_uri": "https://localhost:8080/"
        },
        "outputId": "81848f2d-66e7-44d6-a2d9-86a81847887f"
      },
      "execution_count": null,
      "outputs": [
        {
          "output_type": "stream",
          "name": "stdout",
          "text": [
            "Mounted at /content/drive\n"
          ]
        }
      ]
    },
    {
      "cell_type": "markdown",
      "source": [
        "VERSIÓN FINAL CON OPTIMIZACIÓN DE RECURSOS"
      ],
      "metadata": {
        "id": "jTtpM9NJJPjW"
      }
    },
    {
      "cell_type": "code",
      "source": [
        "import os\n",
        "import pandas as pd\n",
        "import cv2\n",
        "import pytesseract\n",
        "import gc\n",
        "\n",
        "#Función para extraer shortcode\n",
        "def extraer_shortcode(nombre_imagen):\n",
        "    if nombre_imagen.endswith(\"UTC.jpg\"):\n",
        "        return nombre_imagen.replace(\".jpg\", \"\")\n",
        "    elif nombre_imagen.endswith(\"UTC_1.jpg\"):\n",
        "        return nombre_imagen.replace(\"_1.jpg\", \"\")\n",
        "    return None\n",
        "\n",
        "#Función para detectar texto en imagen\n",
        "def detect_text(image_path):\n",
        "    #Carga la imagen con OpenCV\n",
        "    gray = cv2.imread(image_path, cv2.IMREAD_GRAYSCALE)\n",
        "\n",
        "    #Reconocimiento de texto\n",
        "    text = pytesseract.image_to_string(gray)\n",
        "\n",
        "    #¿Texto?\n",
        "    if text and len(text.strip()) > 0:\n",
        "        return \"SÍ\"\n",
        "    else:\n",
        "        return \"NO\"\n",
        "\n",
        "#Función para detectar texto en una carpeta de imágenes\n",
        "def detect_text_in_folder(folder_path, batch_size=10):\n",
        "    # Lista para almacenar los resultados de texto detectado para cada imagen\n",
        "    results = []\n",
        "    image_paths = []\n",
        "    shortcodes = []\n",
        "\n",
        "    #Recorrer archivos directorio\n",
        "    for root, _, files in os.walk(folder_path):\n",
        "        for nombre_imagen in files:\n",
        "            #Verificar si es imagen\n",
        "            if nombre_imagen.endswith('.jpg') or nombre_imagen.endswith('.png') or nombre_imagen.endswith('.jpeg'):\n",
        "                #Extraer shortcode\n",
        "                shortcode = extraer_shortcode(nombre_imagen)\n",
        "                if not shortcode:\n",
        "                    continue\n",
        "\n",
        "                #Ruta imagen\n",
        "                image_path = os.path.join(root, nombre_imagen)\n",
        "                image_paths.append(image_path)\n",
        "                shortcodes.append(shortcode)\n",
        "\n",
        "                #Procesar por lotes\n",
        "                if len(image_paths) == batch_size:\n",
        "                    #Detectar texto lote\n",
        "                    for img_path, sc in zip(image_paths, shortcodes):\n",
        "                        result = detect_text(img_path)\n",
        "                        results.append((sc, result))\n",
        "\n",
        "                    #Limpiar listas\n",
        "                    image_paths = []\n",
        "                    shortcodes = []\n",
        "\n",
        "                    #Liberar memoria\n",
        "                    gc.collect()\n",
        "\n",
        "    #Procesar cualquier imagen restante\n",
        "    if image_paths:\n",
        "        for img_path, sc in zip(image_paths, shortcodes):\n",
        "            result = detect_text(img_path)\n",
        "            results.append((sc, result))\n",
        "\n",
        "        #Liberar memoria\n",
        "        gc.collect()\n",
        "\n",
        "    return results\n",
        "\n",
        "#Diccionario res\n",
        "text_results_dict = {'post': [], 'Texto Detectado': []}\n",
        "\n",
        "#Detectar texto en imágenes de carpeta\n",
        "text_results = detect_text_in_folder(directorio_raiz)\n",
        "\n",
        "#Agregar resultados al diccionario\n",
        "for shortcode, text_detected in text_results:\n",
        "    text_results_dict['post'].append(shortcode)\n",
        "    text_results_dict['Texto Detectado'].append(text_detected)\n",
        "\n",
        "df_text = pd.DataFrame(text_results_dict)\n",
        "\n",
        "df = pd.read_csv(csv_path)\n",
        "\n",
        "df_actualizado = pd.merge(df, df_text, on=\"post\", how=\"left\")\n",
        "\n",
        "df_actualizado.to_csv(csv_path, index=False)\n"
      ],
      "metadata": {
        "id": "fvGQiO3sJO-B"
      },
      "execution_count": null,
      "outputs": []
    },
    {
      "cell_type": "markdown",
      "source": [
        "Nueva versión para generar Csv independiente con las predicciones"
      ],
      "metadata": {
        "id": "qVyZWWfoqMuv"
      }
    },
    {
      "cell_type": "code",
      "source": [
        "from google.colab import drive\n",
        "\n",
        "drive.mount('/content/drive')\n",
        "\n",
        "#Subdirectorios\n",
        "directorio_raiz = '/content/drive/My Drive/TFG PABLO VILLALBA BRISA/TFG_Dataset'\n",
        "#Archivo CSV independiente\n",
        "nuevo_csv_path = '/content/drive/My Drive/TFG PABLO VILLALBA BRISA/Archivos/text_predictions.csv'"
      ],
      "metadata": {
        "colab": {
          "base_uri": "https://localhost:8080/"
        },
        "id": "X1GyyugQqaoa",
        "outputId": "9139654f-537e-4fb5-8e18-4235b3959267"
      },
      "execution_count": null,
      "outputs": [
        {
          "output_type": "stream",
          "name": "stdout",
          "text": [
            "Mounted at /content/drive\n"
          ]
        }
      ]
    },
    {
      "cell_type": "code",
      "source": [
        "import os\n",
        "import pandas as pd\n",
        "import cv2\n",
        "import pytesseract\n",
        "import gc\n",
        "\n",
        "#Función extraer el shortcode\n",
        "def extraer_shortcode(nombre_imagen):\n",
        "    if nombre_imagen.endswith(\"UTC.jpg\"):\n",
        "        return nombre_imagen.replace(\".jpg\", \"\")\n",
        "    elif nombre_imagen.endswith(\"UTC_1.jpg\"):\n",
        "        return nombre_imagen.replace(\"_1.jpg\", \"\")\n",
        "    return None\n",
        "\n",
        "#Función detectar texto imagen\n",
        "def detect_text(image_path):\n",
        "    #Carga imagen con OpenCV\n",
        "    gray = cv2.imread(image_path, cv2.IMREAD_GRAYSCALE)\n",
        "\n",
        "    #Aplica rec. texto\n",
        "    text = pytesseract.image_to_string(gray)\n",
        "\n",
        "    #¿Texto?\n",
        "    if text and len(text.strip()) > 0:\n",
        "        return \"SÍ\"\n",
        "    else:\n",
        "        return \"NO\"\n",
        "\n",
        "#Función detectar texto en carpeta imágenes (llama a detect_text cuando corresponde)\n",
        "def detect_text_in_folder(folder_path, batch_size=10):\n",
        "    #Lista res\n",
        "    results = []\n",
        "    image_paths = []\n",
        "    shortcodes = []\n",
        "    usernames = []\n",
        "\n",
        "    #Recorrer archivos carpeta\n",
        "    for root, _, files in os.walk(folder_path):\n",
        "        for nombre_imagen in files:\n",
        "            #Comprobar si imagen\n",
        "            if nombre_imagen.endswith(\"UTC.jpg\") or nombre_imagen.endswith(\"UTC_1.jpg\"):\n",
        "                #Extraer shortcode\n",
        "                shortcode = extraer_shortcode(nombre_imagen)\n",
        "                if not shortcode:\n",
        "                    continue\n",
        "\n",
        "                #Ruta imagen\n",
        "                image_path = os.path.join(root, nombre_imagen)\n",
        "                image_paths.append(image_path)\n",
        "                shortcodes.append(shortcode)\n",
        "                usuario = os.path.basename(root)\n",
        "                usernames.append(usuario)\n",
        "\n",
        "                #Procesar por lotes\n",
        "                if len(image_paths) == batch_size:\n",
        "                    #Detectar texto lote imágenes\n",
        "                    for img_path, sc, usuario in zip(image_paths, shortcodes, usernames):\n",
        "                        result = detect_text(img_path)\n",
        "                        results.append((usuario, sc, result))\n",
        "\n",
        "                    #Limpiar las listas\n",
        "                    image_paths = []\n",
        "                    shortcodes = []\n",
        "                    usernames = []\n",
        "\n",
        "                    #Liberar memoria\n",
        "                    gc.collect()\n",
        "\n",
        "    #Procesar imags restantes\n",
        "    if image_paths:\n",
        "        for img_path, sc, usuario in zip(image_paths, shortcodes, usernames):\n",
        "            result = detect_text(img_path)\n",
        "            results.append((usuario, sc, result))\n",
        "\n",
        "        #Liberar memoria\n",
        "        gc.collect()\n",
        "\n",
        "    return results\n",
        "\n",
        "#Diccionario res\n",
        "text_results_dict = {'username': [], 'post': [], 'texto detectado': []}\n",
        "\n",
        "#Detectar texto en imgs carpeta\n",
        "text_results = detect_text_in_folder(directorio_raiz)\n",
        "\n",
        "#Res al diccionario\n",
        "for usuario, shortcode, text_detected in text_results:\n",
        "    text_results_dict['username'].append(usuario)\n",
        "    text_results_dict['post'].append(shortcode)\n",
        "    text_results_dict['texto detectado'].append(text_detected)\n",
        "\n",
        "df_text = pd.DataFrame(text_results_dict)\n",
        "\n",
        "df_text.to_csv(nuevo_csv_path, index=False)\n"
      ],
      "metadata": {
        "id": "a8DkEVxeqTBV"
      },
      "execution_count": null,
      "outputs": []
    }
  ]
}